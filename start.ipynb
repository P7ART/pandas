{
 "cells": [
  {
   "cell_type": "code",
   "execution_count": 1,
   "metadata": {},
   "outputs": [],
   "source": [
    "import pandas as pd\n",
    "import numpy as np\n",
    "#for excute the program ham use karte h [shift+enter] taki naye jupyter mei kar sake rest part of the question."
   ]
  },
  {
   "cell_type": "code",
   "execution_count": 29,
   "metadata": {},
   "outputs": [],
   "source": [
    "#example and syntax for writting raw data into tabular form by using pandas library and numpy library.\n",
    "dict1={\n",
    "    \"name\":[\"khush\",\"raunak\",\"rishabh\",\"omkar\",\"abhijeet\"],\n",
    "    \"age\":[19,20,21,19,18],\n",
    "    \"height\":[\"5.8ft\",\"5.9ft\",\"5.10ft\",\"5.8ft\",\"5.10ft\"]\n",
    "}"
   ]
  },
  {
   "cell_type": "code",
   "execution_count": 30,
   "metadata": {},
   "outputs": [],
   "source": [
    "#SYNTAX for raw data to tabular form =>variable_name=pd(pandas).DataFrame(raw_data_name)\n",
    "df = pd.DataFrame(dict1)"
   ]
  },
  {
   "cell_type": "code",
   "execution_count": 31,
   "metadata": {},
   "outputs": [
    {
     "data": {
      "text/html": [
       "<div>\n",
       "<style scoped>\n",
       "    .dataframe tbody tr th:only-of-type {\n",
       "        vertical-align: middle;\n",
       "    }\n",
       "\n",
       "    .dataframe tbody tr th {\n",
       "        vertical-align: top;\n",
       "    }\n",
       "\n",
       "    .dataframe thead th {\n",
       "        text-align: right;\n",
       "    }\n",
       "</style>\n",
       "<table border=\"1\" class=\"dataframe\">\n",
       "  <thead>\n",
       "    <tr style=\"text-align: right;\">\n",
       "      <th></th>\n",
       "      <th>name</th>\n",
       "      <th>age</th>\n",
       "      <th>height</th>\n",
       "    </tr>\n",
       "  </thead>\n",
       "  <tbody>\n",
       "    <tr>\n",
       "      <th>0</th>\n",
       "      <td>khush</td>\n",
       "      <td>19</td>\n",
       "      <td>5.8ft</td>\n",
       "    </tr>\n",
       "    <tr>\n",
       "      <th>1</th>\n",
       "      <td>raunak</td>\n",
       "      <td>20</td>\n",
       "      <td>5.9ft</td>\n",
       "    </tr>\n",
       "    <tr>\n",
       "      <th>2</th>\n",
       "      <td>rishabh</td>\n",
       "      <td>21</td>\n",
       "      <td>5.10ft</td>\n",
       "    </tr>\n",
       "    <tr>\n",
       "      <th>3</th>\n",
       "      <td>omkar</td>\n",
       "      <td>19</td>\n",
       "      <td>5.8ft</td>\n",
       "    </tr>\n",
       "    <tr>\n",
       "      <th>4</th>\n",
       "      <td>abhijeet</td>\n",
       "      <td>18</td>\n",
       "      <td>5.10ft</td>\n",
       "    </tr>\n",
       "  </tbody>\n",
       "</table>\n",
       "</div>"
      ],
      "text/plain": [
       "       name  age  height\n",
       "0     khush   19   5.8ft\n",
       "1    raunak   20   5.9ft\n",
       "2   rishabh   21  5.10ft\n",
       "3     omkar   19   5.8ft\n",
       "4  abhijeet   18  5.10ft"
      ]
     },
     "execution_count": 31,
     "metadata": {},
     "output_type": "execute_result"
    }
   ],
   "source": [
    "df"
   ]
  },
  {
   "cell_type": "code",
   "execution_count": 43,
   "metadata": {},
   "outputs": [],
   "source": [
    "#converting data to csv (excel form)\n",
    "#SYNTAX =>variable_name.to_csv('csv_file_name.csv')\n",
    "df.to_csv('parth.csv')"
   ]
  },
  {
   "cell_type": "code",
   "execution_count": 47,
   "metadata": {},
   "outputs": [],
   "source": [
    "#ek baat yaad rakho jab bhi condition likho True/False usska phala letter jase T or F capital hu,nahi hoga tuh error ayega.\n",
    "df.to_csv('parth_index_false.csv',index=False)"
   ]
  }
 ],
 "metadata": {
  "kernelspec": {
   "display_name": "base",
   "language": "python",
   "name": "python3"
  },
  "language_info": {
   "codemirror_mode": {
    "name": "ipython",
    "version": 3
   },
   "file_extension": ".py",
   "mimetype": "text/x-python",
   "name": "python",
   "nbconvert_exporter": "python",
   "pygments_lexer": "ipython3",
   "version": "3.11.5"
  }
 },
 "nbformat": 4,
 "nbformat_minor": 2
}
